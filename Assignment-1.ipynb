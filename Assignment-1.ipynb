{
 "cells": [
  {
   "cell_type": "markdown",
   "metadata": {},
   "source": [
    "# Assignment-1\n",
    "## Name- Soumyadeep Banerjee\n",
    "### Batch- Full stack Data Science"
   ]
  },
  {
   "cell_type": "markdown",
   "metadata": {},
   "source": [
    "#### 1. What are the diferences between operators and Values in the following?\n",
    "#### *\n",
    "#### \"hello\"\n",
    "####  -87.8\n",
    "#### -\n",
    "#### /\n",
    "#### +\n",
    "#### 6"
   ]
  },
  {
   "cell_type": "markdown",
   "metadata": {},
   "source": [
    "Answer: \n",
    "\n",
    "Operator- It is a symbol which helps the interpreter to perform some computational activity like addition,                       multiplication etc. \n",
    "\n",
    "Values-   Values are nothing but a entity which is stored in allocated memory after assigning the same.It                     is used to perform calculation or to print specific data. Value can be a number or a string or a                   single character\n",
    "\n",
    "    1. * - Here the symbol denotes multiplication which is an Operator\n",
    "    2. \"hello\" - This is a string i.e collection of characters. If we print a string it will give same output as the input as these are nothing but statements. It represents a Value\n",
    "    3. -87.8 - It is a float datatype and containes certain memory. It is a Value\n",
    "    4. - - Here the symbol denotes subtraction which is an Operator\n",
    "    5. / - Here the symbol denotes division which is an Operator\n",
    "    6. + - Here the symbol denotes addition which is an Operator\n",
    "    7. 6 - It is integer datatype and contains certain memory. It is a Value"
   ]
  },
  {
   "cell_type": "markdown",
   "metadata": {},
   "source": [
    "#### 2. What is the difference between string and variable?\n",
    "#### spam\n",
    "#### 'spam'\n"
   ]
  },
  {
   "cell_type": "markdown",
   "metadata": {},
   "source": [
    "Answer:\n",
    "\n",
    "String-It is a one of the datatype of programming language. String is a collection of characters.In python it is written in between double quotes or single quote. eg. \"Hello World\"\n",
    "\n",
    "Variable- In simple word it is a container which can store certain entity. Variable is used to store any datatypes to use in further line of codes to perform certain activity. All the values are stored in memory allocation with certain names. These names are called Variable \n",
    "\n",
    "    1.spam-  It is a variable which can store information or data\n",
    "    2.\"spam\"-It is a string which is collection of characters "
   ]
  },
  {
   "cell_type": "markdown",
   "metadata": {},
   "source": [
    "####  3.Describe three different data types."
   ]
  },
  {
   "cell_type": "markdown",
   "metadata": {},
   "source": [
    "In python there 6 data types. A Data Type describes the characteristic of a variable. Out of \n",
    "these 6, 3 different datatypes are \n",
    "\n",
    "        1.Numbers- In Numbers category, there are mainly three 3 types of datatype i.e a. Integer, b. float and \n",
    "                   c. Complex \n",
    "        2.String-  It is a one of the datatype of programming language. String is a collection of characters.\n",
    "                   In python it is written in between double quotes or single quote. eg. \"Hello World\"\n",
    "        3.List-    A list can contai series of values of any data type i.e in a list we can store int data along \n",
    "                   with string, float etc. List is a mutable object i.e it's value can be manipulated "
   ]
  },
  {
   "cell_type": "markdown",
   "metadata": {},
   "source": [
    "#### 4. What makes up an expression? What are the functions of all expressions?"
   ]
  },
  {
   "cell_type": "markdown",
   "metadata": {},
   "source": [
    "Expression- Expression is a combination of values, operators, variables. This is different from statement. \n",
    "            In statement we assign a value to a variable. But in case of expression it is evaluated and gives \n",
    "            the result as output \n",
    "       \n",
    "       \n",
    "\n",
    "Functions of all expression:\n",
    "                           \n",
    "                            The basic function of expressions is to produce result after evaluation. Unlike \n",
    "                            statement it returns value or values. basic example of expression is \n",
    "                            print(\"hello\" + \"world\"). Here the output will be \"helloworld\" which is a value \n",
    "                            and print(\"hello\" + \"world\") is expression. "
   ]
  },
  {
   "cell_type": "markdown",
   "metadata": {},
   "source": [
    "#### 5. In this chapter, assignment statements such as spam = 10 were added. What's the difference between a declaration and an expression?"
   ]
  },
  {
   "cell_type": "markdown",
   "metadata": {},
   "source": [
    "Answer:\n",
    "      \n",
    "   Declaration means we are assigning certaing values to any variable. Here 10 is assigned to a varibale              namely spam.\n",
    "        \n",
    "   But in case of expression, we are evaluating the value of the particular variable. i.e if we print(spam)            then output will be 10 and here print(spam) is called the expression"
   ]
  },
  {
   "cell_type": "markdown",
   "metadata": {},
   "source": [
    "#### 6. After running the following code, what does the variable bacon contain?\n",
    "#### bacon = 22\n",
    "#### bacon + 1\n"
   ]
  },
  {
   "cell_type": "markdown",
   "metadata": {},
   "source": [
    "Answer:\n",
    "    At first the variable bacon is intialized with value 22 and then it gets incremented to +1. Hence the final \n",
    "    output for the variable bacon is 23"
   ]
  },
  {
   "cell_type": "markdown",
   "metadata": {},
   "source": [
    "#### 7. What should the values of the following two terms be?\n",
    "\n",
    "#### A.'spam' + 'spamspam'\n",
    "#### B.'spam' * 3\n"
   ]
  },
  {
   "cell_type": "markdown",
   "metadata": {},
   "source": [
    "Answer:\n",
    "    \n",
    "    A. spamspamspam. Here the string \"spam\" will be added with string \"spamspam\"\n",
    "    \n",
    "    B. spamspamspam. Here the string \"spam\" will be multiplied 3 times "
   ]
  },
  {
   "cell_type": "markdown",
   "metadata": {},
   "source": [
    "#### 8. Why is it that eggs is a true variable name but 100 is not?"
   ]
  },
  {
   "cell_type": "markdown",
   "metadata": {},
   "source": [
    "Answer:\n",
    "\n",
    "        There are certain rules in declaring variable name. A variable name can not start with any numeric \n",
    "        character, special character. Here 100 is a integer value. So python can not interprete it as variable. \n",
    "        Because if we try to initialize any value let's say 50 to the variable 100 then it will be 100=50 which\n",
    "        is completely absurd. So going by the rules of decaraing variable it can be said that eggs is a true\n",
    "        variable but 100 is not\n"
   ]
  },
  {
   "cell_type": "markdown",
   "metadata": {},
   "source": [
    "#### 9.Which of the following three functions may be used to convert a value to an integer, a floating-point number, or a string?"
   ]
  },
  {
   "cell_type": "markdown",
   "metadata": {},
   "source": [
    "Answer:\n",
    "\n",
    "        1. To converet to integer- int(variable or values)\n",
    "        2. To convert to float- float(variable or values)\n",
    "        3. To convert to string - str(variable or values)"
   ]
  },
  {
   "cell_type": "markdown",
   "metadata": {},
   "source": [
    "#### 10. What is the error caused by this expression? What would you do about it?\n",
    "#### 'I have eaten ' + 99 + ' burritos.'"
   ]
  },
  {
   "cell_type": "markdown",
   "metadata": {},
   "source": [
    "Answer:\n",
    "\n",
    "        Here \"I have eaten\" and \"burritos\" is in string data type and 99 is in int data type. We can not \n",
    "        concat string format to integer. To solve the issue we need to convert the integer 99 into string.\n",
    "        \n",
    "        The correct code will be: 'I have eaten ' + str(99) + 'burritos'"
   ]
  },
  {
   "cell_type": "code",
   "execution_count": null,
   "metadata": {},
   "outputs": [],
   "source": []
  }
 ],
 "metadata": {
  "kernelspec": {
   "display_name": "Python 3",
   "language": "python",
   "name": "python3"
  },
  "language_info": {
   "codemirror_mode": {
    "name": "ipython",
    "version": 3
   },
   "file_extension": ".py",
   "mimetype": "text/x-python",
   "name": "python",
   "nbconvert_exporter": "python",
   "pygments_lexer": "ipython3",
   "version": "3.8.3"
  }
 },
 "nbformat": 4,
 "nbformat_minor": 4
}
